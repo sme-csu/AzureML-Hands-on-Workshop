{
 "metadata": {
  "language_info": {
   "codemirror_mode": {
    "name": "ipython",
    "version": 3
   },
   "file_extension": ".py",
   "mimetype": "text/x-python",
   "name": "python",
   "nbconvert_exporter": "python",
   "pygments_lexer": "ipython3",
   "version": "3.7.3"
  },
  "orig_nbformat": 2,
  "kernelspec": {
   "name": "python373jvsc74a57bd097ae724bfa85b9b34df7982b8bb8c7216f435b92902d749e4263f71162bea840",
   "display_name": "Python 3.7.3 64-bit ('base': conda)"
  }
 },
 "nbformat": 4,
 "nbformat_minor": 2,
 "cells": [
  {
   "cell_type": "markdown",
   "source": [
    "## Azure Machine Learning的实验"
   ],
   "metadata": {}
  },
  {
   "cell_type": "markdown",
   "source": [
    "### 支持Azure Machine Learning\r\n",
    "\r\n",
    "#### Library\r\n",
    "在conda yml文件中，一定要包含Azure Machine Learning的Python SDK `azureml-sdk`。\r\n",
    "\r\n",
    "#### 数据集(以自变量提交)\r\n",
    "学习数据在azure machine learning dataset (or datastore) 中被注册。在`ScriptRunConfig`中输入` Dataset .as_named_input('input').as_mount()`中，关于Dataset的信息、名称、以下的任一提供方法的信息。\r\n",
    "- `as_mount()` : 安装文件\r\n",
    "- `as_download()` : 下载文件\r\n",
    "    \r\n",
    "#### 量度记录\r\n",
    "在模型训练过程中，可以记录超参数和模型精度等量度。也可以将各实验的记录横向串起来进行可视化比较。\r\n",
    "- `run = Run.get_context()` : run对象的生成\r\n",
    "- `run.log(\"xxx\", xxx)`  : 作为实验的量度记录"
   ],
   "metadata": {}
  },
  {
   "cell_type": "code",
   "execution_count": null,
   "source": [
    "pip install azureml\r\n"
   ],
   "outputs": [],
   "metadata": {}
  },
  {
   "cell_type": "code",
   "execution_count": null,
   "source": [
    "pip install azureml.core"
   ],
   "outputs": [],
   "metadata": {}
  },
  {
   "cell_type": "code",
   "execution_count": null,
   "source": [
    "pip show azureml-sdk"
   ],
   "outputs": [],
   "metadata": {}
  },
  {
   "cell_type": "code",
   "execution_count": null,
   "source": [
    "pip install 'azureml-sdk[notebooks]'"
   ],
   "outputs": [],
   "metadata": {
    "tags": []
   }
  },
  {
   "cell_type": "code",
   "execution_count": null,
   "source": [
    "from azureml.core import Workspace, Experiment, Environment, ScriptRunConfig, Dataset\r\n",
    "from azureml.widgets import RunDetails"
   ],
   "outputs": [],
   "metadata": {}
  },
  {
   "cell_type": "code",
   "execution_count": null,
   "source": [
    "ws = Workspace.from_config()\r\n",
    "print(ws.name, ws.resource_group, ws.location, ws.subscription_id, sep = '\\n')"
   ],
   "outputs": [],
   "metadata": {}
  },
  {
   "cell_type": "code",
   "execution_count": null,
   "source": [
    "import os\r\n",
    "print(os.getcwd())"
   ],
   "outputs": [],
   "metadata": {}
  },
  {
   "cell_type": "markdown",
   "source": [
    "### Database的获取"
   ],
   "metadata": {}
  },
  {
   "cell_type": "code",
   "execution_count": null,
   "source": [
    "dataset = Dataset.get_by_name(ws, name='cifar10')"
   ],
   "outputs": [],
   "metadata": {}
  },
  {
   "cell_type": "markdown",
   "source": [
    "### 设定实验名"
   ],
   "metadata": {}
  },
  {
   "cell_type": "code",
   "execution_count": null,
   "source": [
    "experiment = Experiment(workspace=ws, name='3-aml-run')"
   ],
   "outputs": [],
   "metadata": {}
  },
  {
   "cell_type": "markdown",
   "source": [
    "### 学习脚本的执行设定"
   ],
   "metadata": {}
  },
  {
   "cell_type": "code",
   "execution_count": null,
   "source": [
    "\r\n",
    "config = ScriptRunConfig(source_directory='./code/pytorch-cloud',\r\n",
    "                         script='train.py',\r\n",
    "                         compute_target='gpucluster',  # Compute Cluster的名称\r\n",
    "                         arguments=[\r\n",
    "                            '--data_path', dataset.as_named_input('input').as_download(),\r\n",
    "                            '--learning_rate', 0.003,\r\n",
    "                            '--momentum', 0.92])"
   ],
   "outputs": [],
   "metadata": {}
  },
  {
   "cell_type": "markdown",
   "source": [
    "### 对Environment的调用和执行设定的输入"
   ],
   "metadata": {}
  },
  {
   "cell_type": "code",
   "execution_count": null,
   "source": [
    "env = Environment.get(ws, \"pytorch-env\")"
   ],
   "outputs": [],
   "metadata": {}
  },
  {
   "cell_type": "code",
   "execution_count": null,
   "source": [
    "config.run_config.environment = env"
   ],
   "outputs": [],
   "metadata": {}
  },
  {
   "cell_type": "markdown",
   "source": [
    "### 执行和结果确认"
   ],
   "metadata": {}
  },
  {
   "cell_type": "code",
   "execution_count": null,
   "source": [
    "run = experiment.submit(config)"
   ],
   "outputs": [],
   "metadata": {}
  },
  {
   "cell_type": "code",
   "execution_count": null,
   "source": [
    "# Jupyter Widgets\r\n",
    "RunDetails(run).show()"
   ],
   "outputs": [],
   "metadata": {}
  },
  {
   "cell_type": "code",
   "execution_count": null,
   "source": [
    "# 文本输出\r\n",
    "run.wait_for_completion(show_output=True)"
   ],
   "outputs": [],
   "metadata": {}
  },
  {
   "cell_type": "code",
   "execution_count": null,
   "source": [
    "from azureml.core import Model\r\n",
    "model = run.register_model(model_name='cifar10_net_4',\r\n",
    "                           model_path='outputs/cifar10_net.pt',\r\n",
    "                           model_framework=\"PyTorch\",\r\n",
    "                           model_framework_version=\"1.8.1\",\r\n",
    "                           tags={'area': 'cifar10'},\r\n",
    "                           )\r\n",
    "print(model.name, model.id, model.version, sep='\\t')"
   ],
   "outputs": [],
   "metadata": {}
  },
  {
   "cell_type": "code",
   "execution_count": null,
   "source": [
    "from azureml.core.model import InferenceConfig\r\n",
    "from azureml.core.webservice import AciWebservice, Webservice\r\n",
    "\r\n",
    "\r\n",
    "# 在推理设置中，设置评分脚本和环境\r\n",
    "inference_config = InferenceConfig(entry_script=\"pytorch_score.py\", environment = env)\r\n",
    "\r\n",
    "# 设置部署配置信息\r\n",
    "deployment_config = AciWebservice.deploy_configuration(cpu_cores = 1, memory_gb = 1)"
   ],
   "outputs": [],
   "metadata": {}
  },
  {
   "cell_type": "code",
   "execution_count": null,
   "source": [
    "# 设置模型、推理和部署配置，以及web服务名称和部署位置\r\n",
    "cifar_service = Model.deploy(\r\n",
    "    workspace = ws,\r\n",
    "    name = \"cifar-service\",\r\n",
    "    models = [model],\r\n",
    "    inference_config = inference_config,\r\n",
    "    deployment_config = deployment_config)"
   ],
   "outputs": [],
   "metadata": {}
  },
  {
   "cell_type": "code",
   "execution_count": null,
   "source": [
    "cifar_service.wait_for_deployment(show_output = True)"
   ],
   "outputs": [],
   "metadata": {}
  },
  {
   "cell_type": "markdown",
   "source": [
    "**参考信息**\r\n",
    "- [配置和提交训练运行](https://docs.microsoft.com/zh-cn/azure/machine-learning/how-to-set-up-training-targets)"
   ],
   "metadata": {}
  }
 ]
}