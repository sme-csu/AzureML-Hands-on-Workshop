{
 "metadata": {
  "orig_nbformat": 2,
  "kernelspec": {
   "name": "python3",
   "display_name": "Python 3.7.6 64-bit (conda)",
   "metadata": {
    "interpreter": {
     "hash": "01dcb17e9c7a198f58a89945ff77a27dc119bb24dcdef5514069bb9e9c663ef5"
    }
   }
  }
 },
 "nbformat": 4,
 "nbformat_minor": 2,
 "cells": [
  {
   "cell_type": "markdown",
   "source": [
    "## Conda 环境搭建"
   ],
   "metadata": {}
  },
  {
   "cell_type": "markdown",
   "source": [
    "在终端环境中创建conda环境。提前安装好 [Miniconda](https://docs.conda.io/en/latest/miniconda.html) 或 [Anaconda](https://docs.anaconda.com/anaconda/install/) 。"
   ],
   "metadata": {}
  },
  {
   "cell_type": "markdown",
   "source": [
    "切换到文件夹`example` \r\n",
    "```bash\r\n",
    "cd Users/<用户名>/azureml-hybrid/examples\r\n",
    "```\r\n",
    "\r\n",
    "根据yml中的描述来创建conda环境（pytorch_env）\r\n",
    "```bash\r\n",
    "export name=\"pytorch_env\"\r\n",
    "conda env create -n $name -f ../environments/pytorch_env.yml\r\n",
    "```\r\n",
    "\r\n",
    "启动conda环境\r\n",
    "```bash\r\n",
    "conda activate pytorch_env\r\n",
    "```\r\n",
    "\r\n",
    "创建 Jupyter 内核\r\n",
    "```bash\r\n",
    "export env_name=\"pytorch_env\"\r\n",
    "ipython kernel install --user --name=$env_name --display-name=$env_name\r\n",
    "``` "
   ],
   "metadata": {}
  },
  {
   "cell_type": "markdown",
   "source": [],
   "metadata": {}
  },
  {
   "cell_type": "code",
   "execution_count": null,
   "source": [
    "import os\r\n",
    "os.getcwd()"
   ],
   "outputs": [],
   "metadata": {}
  }
 ]
}