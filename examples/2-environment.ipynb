{
 "metadata": {
  "language_info": {
   "codemirror_mode": {
    "name": "ipython",
    "version": 3
   },
   "file_extension": ".py",
   "mimetype": "text/x-python",
   "name": "python",
   "nbconvert_exporter": "python",
   "pygments_lexer": "ipython3",
   "version": "3.7.3"
  },
  "orig_nbformat": 2,
  "kernelspec": {
   "name": "python373jvsc74a57bd097ae724bfa85b9b34df7982b8bb8c7216f435b92902d749e4263f71162bea840",
   "display_name": "Python 3.7.3 64-bit ('base': conda)"
  }
 },
 "nbformat": 4,
 "nbformat_minor": 2,
 "cells": [
  {
   "cell_type": "markdown",
   "source": [
    "## 登录Azure Machine Learning Environment\r\n",
    "在Azure Machine Learning Envionrment中注册关于Python运行环境的信息。\r\n",
    "\r\n",
    "Python软件包的管理是复杂的，要求复现性。Azure Machine Learning Environment版本管理Python软件包、Docker和环境变量的信息。可以指定这个环境来执行模型学习。因为模型学习可以与Environment联系起来，所以很容易再现过去的学习。"
   ],
   "metadata": {}
  },
  {
   "cell_type": "markdown",
   "source": [
    "### Azure Machine Learning Environment的使用场景"
   ],
   "metadata": {}
  },
  {
   "cell_type": "markdown",
   "source": [
    "\r\n",
    "环境分为三类：_curation_ ，_user management_ 和 _system management_ 。我将通过反向查找描述使用场景。\r\n",
    "\r\n",
    "- 我想仅使用Docker映像构建Python环境\r\n",
    "    - _user management_ environment\r\n",
    "    - 需要的Python包必须在Docker中导入\r\n",
    "- 在计算环境中自动安装指定的Python软件包\r\n",
    "    - _system management_ environment\r\n",
    "- 我想快速使用预先构建和验证的环境\r\n",
    "    - _curation_ environment"
   ],
   "metadata": {}
  },
  {
   "cell_type": "markdown",
   "source": [
    "### Conda yml文件描述包注册"
   ],
   "metadata": {}
  },
  {
   "cell_type": "code",
   "execution_count": null,
   "source": [
    "from azureml.core import Workspace\r\n",
    "ws = Workspace.from_config()\r\n",
    "print(ws.name, ws.resource_group, ws.location, ws.subscription_id, sep = '\\n')"
   ],
   "outputs": [],
   "metadata": {}
  },
  {
   "cell_type": "code",
   "execution_count": null,
   "source": [
    "from azureml.core import Environment"
   ],
   "outputs": [],
   "metadata": {}
  },
  {
   "cell_type": "code",
   "execution_count": null,
   "source": [
    "# 从conda yml文件创建环境\r\n",
    "env = Environment.from_conda_specification(\r\n",
    "    name=\"pytorch-env\",\r\n",
    "    file_path=\"../environments/pytorch_env.yml\"\r\n",
    ")"
   ],
   "outputs": [],
   "metadata": {}
  },
  {
   "cell_type": "code",
   "execution_count": null,
   "source": [
    "env.docker.enabled = True"
   ],
   "outputs": [],
   "metadata": {}
  },
  {
   "cell_type": "code",
   "execution_count": null,
   "source": [
    "# 环境注册\r\n",
    "env.register(ws)"
   ],
   "outputs": [],
   "metadata": {}
  },
  {
   "cell_type": "code",
   "execution_count": null,
   "source": [
    "env.build(ws).wait_for_completion()"
   ],
   "outputs": [],
   "metadata": {
    "tags": [
     "outputPrepend"
    ]
   }
  },
  {
   "cell_type": "markdown",
   "source": [
    "### 检查注册环境"
   ],
   "metadata": {}
  },
  {
   "cell_type": "markdown",
   "source": [
    "查看Python SDK，获取最新的环境列表。"
   ],
   "metadata": {}
  },
  {
   "cell_type": "code",
   "execution_count": null,
   "source": [
    "envs = Environment.list(workspace=ws)"
   ],
   "outputs": [],
   "metadata": {}
  },
  {
   "cell_type": "code",
   "execution_count": null,
   "source": [
    "# 策划环境\r\n",
    "for env in envs:\r\n",
    "    if env.startswith(\"AzureML\"):\r\n",
    "        print(\"Name\",env)\r\n",
    "        print(\"packages\", envs[env].python.conda_dependencies.serialize_to_string())"
   ],
   "outputs": [],
   "metadata": {
    "tags": []
   }
  },
  {
   "cell_type": "code",
   "execution_count": null,
   "source": [
    "# 用户创建的Environment\r\n",
    "for env in envs:\r\n",
    "    if env.startswith(\"AzureML\") is False:\r\n",
    "        print(\"Name\",env)\r\n",
    "        print(\"packages\", envs[env].python.conda_dependencies.serialize_to_string())"
   ],
   "outputs": [],
   "metadata": {}
  },
  {
   "cell_type": "markdown",
   "source": [
    "**参考信息**\r\n",
    "- [什么是 Azure 机器学习环境？](https://docs.microsoft.com/zh-cn/azure/machine-learning/concept-environments)\r\n",
    "- [在 Azure 机器学习中创建和使用软件环境](https://docs.microsoft.com/zh-cn/azure/machine-learning/how-to-use-environments#use-a-curated-environment)\r\n",
    "- [Azure 机器学习的特选环境](https://docs.microsoft.com/zh-cn/azure/machine-learning/resource-curated-environments)"
   ],
   "metadata": {}
  }
 ]
}