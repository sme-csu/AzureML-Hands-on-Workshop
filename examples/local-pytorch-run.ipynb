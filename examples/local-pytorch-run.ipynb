{
 "metadata": {
  "orig_nbformat": 2,
  "kernelspec": {
   "name": "python3",
   "display_name": "Python 3.7.6 64-bit (conda)",
   "metadata": {
    "interpreter": {
     "hash": "01dcb17e9c7a198f58a89945ff77a27dc119bb24dcdef5514069bb9e9c663ef5"
    }
   }
  }
 },
 "nbformat": 4,
 "nbformat_minor": 2,
 "cells": [
  {
   "cell_type": "markdown",
   "source": [
    "## 客户端 PC 上的模型训练"
   ],
   "metadata": {}
  },
  {
   "cell_type": "code",
   "execution_count": 1,
   "source": [
    "%run code/pytorch-local/train.py"
   ],
   "outputs": [
    {
     "output_type": "stream",
     "name": "stdout",
     "text": [
      "Files already downloaded and verified\n",
      "epoch=1, batch= 2000: loss 2.23\n",
      "epoch=1, batch= 4000: loss 2.04\n",
      "epoch=1, batch= 6000: loss 1.93\n",
      "epoch=1, batch= 8000: loss 1.81\n",
      "epoch=1, batch=10000: loss 1.71\n",
      "epoch=1, batch=12000: loss 1.62\n",
      "epoch=2, batch= 2000: loss 1.53\n",
      "epoch=2, batch= 4000: loss 1.50\n",
      "epoch=2, batch= 6000: loss 1.49\n",
      "epoch=2, batch= 8000: loss 1.44\n",
      "epoch=2, batch=10000: loss 1.43\n",
      "epoch=2, batch=12000: loss 1.42\n",
      "Finished Training\n"
     ]
    }
   ],
   "metadata": {}
  },
  {
   "cell_type": "code",
   "execution_count": null,
   "source": [],
   "outputs": [],
   "metadata": {}
  }
 ]
}