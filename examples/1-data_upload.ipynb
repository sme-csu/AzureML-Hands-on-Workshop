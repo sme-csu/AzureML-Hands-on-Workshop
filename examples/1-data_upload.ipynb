{
 "metadata": {
  "language_info": {
   "codemirror_mode": {
    "name": "ipython",
    "version": 3
   },
   "file_extension": ".py",
   "mimetype": "text/x-python",
   "name": "python",
   "nbconvert_exporter": "python",
   "pygments_lexer": "ipython3",
   "version": "3.7.3"
  },
  "orig_nbformat": 2,
  "kernelspec": {
   "name": "python373jvsc74a57bd097ae724bfa85b9b34df7982b8bb8c7216f435b92902d749e4263f71162bea840",
   "display_name": "Python 3.7.3 64-bit ('base': conda)"
  }
 },
 "nbformat": 4,
 "nbformat_minor": 2,
 "cells": [
  {
   "cell_type": "markdown",
   "source": [
    "## \n",
    "# 上传数据(onpremium to cloud)\n",
    "\n",
    "\n",
    "将Cifar10的样本数据上传到Azure Mahcine Learning的Datastore，注册为Dataset。"
   ],
   "metadata": {}
  },
  {
   "cell_type": "markdown",
   "source": [
    "### 下载PyTorch的Cifar10样本数据"
   ],
   "metadata": {}
  },
  {
   "cell_type": "markdown",
   "source": [],
   "metadata": {}
  },
  {
   "cell_type": "code",
   "execution_count": null,
   "source": [
    "pip install torchvision"
   ],
   "outputs": [],
   "metadata": {}
  },
  {
   "cell_type": "code",
   "execution_count": null,
   "source": [
    "from torchvision import datasets\r\n",
    "dataset = datasets.CIFAR10(\"../data/cifar10/\", train=False, download=True)"
   ],
   "outputs": [],
   "metadata": {}
  },
  {
   "cell_type": "markdown",
   "source": [
    "### 上传至Azure Machine Learning Datastore"
   ],
   "metadata": {}
  },
  {
   "cell_type": "markdown",
   "source": [
    "Datastore保存着各种Azure存储服务的连接信息。这次要把数据上传到Azure Machine Learning附属的Blob storage(默认的Datstore)。\r\n",
    "\r\n",
    "\r\n",
    "注册完毕的datastore [azure machine learning studio] (ml.azure.com) 左侧菜单的“数据库”可以确认。"
   ],
   "metadata": {}
  },
  {
   "cell_type": "code",
   "execution_count": null,
   "source": [
    "from azureml.core import Workspace, Datastore, Dataset\r\n",
    "ws = Workspace.from_config()\r\n",
    "print(ws.name, ws.resource_group, ws.location, ws.subscription_id, sep = '\\n')"
   ],
   "outputs": [],
   "metadata": {}
  },
  {
   "cell_type": "code",
   "execution_count": null,
   "source": [
    "datastore = ws.get_default_datastore()\r\n",
    "datastore"
   ],
   "outputs": [],
   "metadata": {}
  },
  {
   "cell_type": "code",
   "execution_count": null,
   "source": [
    "# 将数据上传到默认数据存储\r\n",
    "\r\n",
    "datastore.upload(src_dir='../../data/cifar10', target_path='datasets/cifar10', overwrite=True)"
   ],
   "outputs": [],
   "metadata": {}
  },
  {
   "cell_type": "markdown",
   "source": [
    "### 登录Azure Machine Learning Dataset"
   ],
   "metadata": {}
  },
  {
   "cell_type": "markdown",
   "source": [
    "可以将Datstore中存储的数据注册为Dataset。Dataset支持Tabular格式和File格式。这次因为是图像数据，变成File形式。\r\n",
    "\r\n",
    "已注册的dataset是[azure machine learning studio] (ml.azure.com) 从左侧菜单的“数据库中”可以确认。"
   ],
   "metadata": {}
  },
  {
   "cell_type": "code",
   "execution_count": null,
   "source": [
    "# 以File格式创建Dataset \r\n",
    "dataset = Dataset.File.from_files(path=(datastore, 'datasets/cifar10'))"
   ],
   "outputs": [],
   "metadata": {}
  },
  {
   "cell_type": "code",
   "execution_count": null,
   "source": [
    "# 注册Dataset\r\n",
    "dataset.register(ws, name=\"cifar10\", description=\"for hack\", create_new_version=True)"
   ],
   "outputs": [],
   "metadata": {}
  },
  {
   "cell_type": "markdown",
   "source": [
    "注册完成后，通过[Azure Machine Learning studio](ml.azure.com)进行确认。\r\n",
    "\r\n",
    "※ 由于本样本没有直接上传jpeg等图像文件，所以无法看到数据的内容。"
   ],
   "metadata": {}
  },
  {
   "cell_type": "markdown",
   "source": [
    "※**参考信息**\r\n",
    "- [Azure 机器学习的工作原理：体系结构和概念](https://docs.microsoft.com/zh-cn/azure/machine-learning/concept-azure-machine-learning-architecture)"
   ],
   "metadata": {}
  },
  {
   "cell_type": "code",
   "execution_count": null,
   "source": [],
   "outputs": [],
   "metadata": {}
  }
 ]
}