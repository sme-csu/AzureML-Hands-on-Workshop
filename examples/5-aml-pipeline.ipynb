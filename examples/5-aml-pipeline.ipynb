{
 "metadata": {
  "language_info": {
   "codemirror_mode": {
    "name": "ipython",
    "version": 3
   },
   "file_extension": ".py",
   "mimetype": "text/x-python",
   "name": "python",
   "nbconvert_exporter": "python",
   "pygments_lexer": "ipython3",
   "version": "3.6.12-final"
  },
  "orig_nbformat": 2,
  "kernelspec": {
   "name": "pytorch_env",
   "display_name": "pytorch_env",
   "language": "python"
  }
 },
 "nbformat": 4,
 "nbformat_minor": 2,
 "cells": [
  {
   "cell_type": "markdown",
   "source": [
    "## 建立机器学习管道\r\n",
    "\r\n",
    "[Azure Machie Learning Pipeline](https://docs.microsoft.com/zh-cn/azure/machine-learning/concept-ml-pipelines) 实现可重用的机器学习管道。\r\n",
    "它可以用于模型学习和批处理推断。内置的机器学习管道是[Github Actions](https://github.com/Azure/aml-run) 或者 [Azure Data Factory](https://docs.microsoft.com/zh-cn/azure/data-factory/transform-data-machine-learning-service) 可以从诸如之类的服务中调用它。\r\n",
    "\r\n",
    "\r\n",
    "在此Noteobok中，将[3-aml-run.ipynb](./3-aml-run.ipynb)的处理重构为管道。"
   ],
   "metadata": {}
  },
  {
   "cell_type": "code",
   "execution_count": null,
   "source": [
    "from azureml.core import Workspace, Experiment, Datastore, Dataset,Environment\r\n",
    "from azureml.widgets import RunDetails"
   ],
   "outputs": [],
   "metadata": {}
  },
  {
   "cell_type": "markdown",
   "source": [
    "### 机器学习管道相关的库"
   ],
   "metadata": {}
  },
  {
   "cell_type": "code",
   "execution_count": null,
   "source": [
    "from azureml.pipeline.core import Pipeline, PipelineParameter\r\n",
    "from azureml.pipeline.steps import PythonScriptStep"
   ],
   "outputs": [],
   "metadata": {}
  },
  {
   "cell_type": "code",
   "execution_count": null,
   "source": [
    "ws = Workspace.from_config()\r\n",
    "print(ws.name, ws.resource_group, ws.location, ws.subscription_id, sep = '\\n')"
   ],
   "outputs": [],
   "metadata": {}
  },
  {
   "cell_type": "code",
   "execution_count": null,
   "source": [
    "from azureml.core.compute import AmlCompute\r\n",
    "aml_compute = AmlCompute(ws, \"compute1\")"
   ],
   "outputs": [],
   "metadata": {}
  },
  {
   "cell_type": "markdown",
   "source": [
    "### 执行配置"
   ],
   "metadata": {}
  },
  {
   "cell_type": "code",
   "execution_count": null,
   "source": [
    "from azureml.core.runconfig import RunConfiguration\r\n",
    "run_config = RunConfiguration()\r\n",
    "run_config.environment.docker.enabled = True\r\n",
    "env = Environment.get(ws, \"pytorch-env\")\r\n",
    "run_config.environment = env"
   ],
   "outputs": [],
   "metadata": {}
  },
  {
   "cell_type": "markdown",
   "source": [
    "### 数据集"
   ],
   "metadata": {}
  },
  {
   "cell_type": "code",
   "execution_count": null,
   "source": [
    "dataset = Dataset.get_by_name(ws, name='cifar10')\r\n",
    "ds_input = dataset.as_named_input('input1')"
   ],
   "outputs": [],
   "metadata": {}
  },
  {
   "cell_type": "markdown",
   "source": [
    "### `PythonScriptStep`执行配置\n",
    "\n",
    "执行python脚本的模块的执行配置"
   ],
   "metadata": {}
  },
  {
   "cell_type": "code",
   "execution_count": null,
   "source": [
    "step1 = PythonScriptStep(name=\"train_step\",\r\n",
    "                         script_name=\"train.py\",\r\n",
    "                         arguments=[\r\n",
    "                            '--data_path', ds_input.as_download(),\r\n",
    "                            '--learning_rate', 0.003,\r\n",
    "                            '--momentum', 0.92],\r\n",
    "                         #inputs=[ds_input],\r\n",
    "                         compute_target=aml_compute, \r\n",
    "                         source_directory='./code/pytorch-cloud',\r\n",
    "                         runconfig=run_config,\r\n",
    "                         allow_reuse=True)\r\n",
    "print(\"step1 创建完成\")"
   ],
   "outputs": [],
   "metadata": {}
  },
  {
   "cell_type": "code",
   "execution_count": null,
   "source": [
    "steps = [step1]"
   ],
   "outputs": [],
   "metadata": {}
  },
  {
   "cell_type": "code",
   "execution_count": null,
   "source": [
    "pipeline1 = Pipeline(workspace=ws, steps=steps)\r\n",
    "print (\"Pipeline 构筑完成\")"
   ],
   "outputs": [],
   "metadata": {}
  },
  {
   "cell_type": "code",
   "execution_count": null,
   "source": [
    "pipeline1.validate()\r\n",
    "print (\"Pipeline 验证完成\")"
   ],
   "outputs": [],
   "metadata": {}
  },
  {
   "cell_type": "code",
   "execution_count": null,
   "source": [
    "run = pipeline1.submit(\"5-aml-pipeline-run\")"
   ],
   "outputs": [],
   "metadata": {}
  },
  {
   "cell_type": "code",
   "execution_count": null,
   "source": [
    "run.wait_for_completion()"
   ],
   "outputs": [],
   "metadata": {
    "tags": [
     "outputPrepend"
    ]
   }
  },
  {
   "cell_type": "markdown",
   "source": [
    "### 发布为终结点"
   ],
   "metadata": {}
  },
  {
   "cell_type": "code",
   "execution_count": null,
   "source": [
    "pipeline1.publish(\"5-aml-pipeline\")"
   ],
   "outputs": [],
   "metadata": {}
  }
 ]
}