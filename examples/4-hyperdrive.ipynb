{
 "metadata": {
  "language_info": {
   "codemirror_mode": {
    "name": "ipython",
    "version": 3
   },
   "file_extension": ".py",
   "mimetype": "text/x-python",
   "name": "python",
   "nbconvert_exporter": "python",
   "pygments_lexer": "ipython3",
   "version": "3.6.12-final"
  },
  "orig_nbformat": 2,
  "kernelspec": {
   "name": "pytorch_env",
   "display_name": "pytorch_env",
   "language": "python"
  }
 },
 "nbformat": 4,
 "nbformat_minor": 2,
 "cells": [
  {
   "cell_type": "markdown",
   "source": [
    "## 使用Hyperdrive进行超参数调整\r\n",
    "Hyperdrive是Azure机器学习提供的高级超参数调整功能。在Compute Cluster上，以并行方式进行高速学习，并搜索高精度的超参数组合。\r\n",
    "\r\n",
    "**搜索算法**\r\n",
    "- Gird Search\r\n",
    "- Random Search\r\n",
    "- Beysian Optimization    \r\n",
    "\r\n",
    "\r\n",
    "※ 参考文件 : [使用Azure机器学习调整模型超参数](https://docs.microsoft.com/zh-cn/azure/machine-learning/how-to-tune-hyperparameters)"
   ],
   "metadata": {}
  },
  {
   "cell_type": "code",
   "execution_count": null,
   "source": [
    "from azureml.core import Workspace, Experiment, Environment, ScriptRunConfig, Dataset\r\n",
    "from azureml.widgets import RunDetails"
   ],
   "outputs": [],
   "metadata": {}
  },
  {
   "cell_type": "code",
   "execution_count": null,
   "source": [
    "ws = Workspace.from_config()\r\n",
    "print(ws.name, ws.resource_group, ws.location, ws.subscription_id, sep = '\\n')"
   ],
   "outputs": [],
   "metadata": {}
  },
  {
   "cell_type": "markdown",
   "source": [
    "### 获取数据集"
   ],
   "metadata": {}
  },
  {
   "cell_type": "code",
   "execution_count": null,
   "source": [
    "dataset = Dataset.get_by_name(ws, name='cifar10')"
   ],
   "outputs": [],
   "metadata": {}
  },
  {
   "cell_type": "markdown",
   "source": [
    "### 实验名称设定"
   ],
   "metadata": {}
  },
  {
   "cell_type": "code",
   "execution_count": null,
   "source": [
    "experiment = Experiment(workspace=ws, name='dummy-hyperdrive2')"
   ],
   "outputs": [],
   "metadata": {}
  },
  {
   "cell_type": "markdown",
   "source": [
    "### 训练脚本执行设置"
   ],
   "metadata": {}
  },
  {
   "cell_type": "code",
   "execution_count": null,
   "source": [
    "\r\n",
    "config = ScriptRunConfig(source_directory='./code/pytorch-hyperdrive',\r\n",
    "                         script='train.py',\r\n",
    "                         compute_target='compute1',\r\n",
    "                         arguments=[\r\n",
    "                            '--data_path', dataset.as_named_input('input').as_mount(),\r\n",
    "                            '--learning_rate', 0.003,\r\n",
    "                            '--momentum', 0.92])\r\n"
   ],
   "outputs": [],
   "metadata": {}
  },
  {
   "cell_type": "markdown",
   "source": [
    "### 环境调用和执行设置的输入"
   ],
   "metadata": {}
  },
  {
   "cell_type": "code",
   "execution_count": null,
   "source": [
    "env = Environment.get(ws, \"pytorch-env\")"
   ],
   "outputs": [],
   "metadata": {}
  },
  {
   "cell_type": "code",
   "execution_count": null,
   "source": [
    "config.run_config.environment = env"
   ],
   "outputs": [],
   "metadata": {}
  },
  {
   "cell_type": "markdown",
   "source": [
    "### Hyperdrive中的参数设置"
   ],
   "metadata": {}
  },
  {
   "cell_type": "code",
   "execution_count": null,
   "source": [
    "from azureml.train.hyperdrive import RandomParameterSampling, BanditPolicy, HyperDriveConfig, PrimaryMetricGoal\r\n",
    "from azureml.train.hyperdrive import choice, loguniform\r\n",
    "\r\n",
    "# 参数搜索范围设定\r\n",
    "ps = RandomParameterSampling(\r\n",
    "    {\r\n",
    "        '--learning_rate': loguniform(-6, -1),\r\n",
    "        '--momentum': loguniform(-6, -1),\r\n",
    "    }\r\n",
    ")"
   ],
   "outputs": [],
   "metadata": {}
  },
  {
   "cell_type": "code",
   "execution_count": null,
   "source": [
    "policy = BanditPolicy(evaluation_interval=2, slack_factor=0.1)"
   ],
   "outputs": [],
   "metadata": {}
  },
  {
   "cell_type": "markdown",
   "source": [
    "### Hyperdrive 実行設定"
   ],
   "metadata": {}
  },
  {
   "cell_type": "code",
   "execution_count": null,
   "source": [
    "hyperdrive_config = HyperDriveConfig(run_config=config,\r\n",
    "                                     hyperparameter_sampling=ps,\r\n",
    "                                     policy=policy,\r\n",
    "                                     primary_metric_name='train_loss',  # 调整目标指标\r\n",
    "                                     primary_metric_goal=PrimaryMetricGoal.MINIMIZE,  # or MAXIMIZE\r\n",
    "                                     max_total_runs=20,  # 最大试验次数\r\n",
    "                                     max_concurrent_runs=4)  # 最大平行"
   ],
   "outputs": [],
   "metadata": {}
  },
  {
   "cell_type": "markdown",
   "source": [
    "### 执行和结果确认\n",
    "\n",
    "访问Jupyter Widget和Azure Machine Learning Studio的可视化功能以查看结果。"
   ],
   "metadata": {}
  },
  {
   "cell_type": "code",
   "execution_count": null,
   "source": [
    "run = experiment.submit(hyperdrive_config)"
   ],
   "outputs": [],
   "metadata": {}
  },
  {
   "cell_type": "code",
   "execution_count": null,
   "source": [
    "# Jupyter Widgets\r\n",
    "RunDetails(run).show()"
   ],
   "outputs": [],
   "metadata": {}
  },
  {
   "cell_type": "code",
   "execution_count": null,
   "source": [
    "# 文字输出\r\n",
    "run.wait_for_completion(show_output=True)"
   ],
   "outputs": [],
   "metadata": {
    "tags": []
   }
  },
  {
   "cell_type": "code",
   "execution_count": null,
   "source": [],
   "outputs": [],
   "metadata": {}
  }
 ]
}