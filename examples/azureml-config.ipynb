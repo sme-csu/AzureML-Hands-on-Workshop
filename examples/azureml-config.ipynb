{
 "metadata": {
  "orig_nbformat": 2,
  "kernelspec": {
   "name": "pytorch_env",
   "display_name": "pytorch_env",
   "language": "python"
  }
 },
 "nbformat": 4,
 "nbformat_minor": 2,
 "cells": [
  {
   "cell_type": "markdown",
   "source": [
    "## Azure Machine Learning 配置"
   ],
   "metadata": {}
  },
  {
   "cell_type": "markdown",
   "source": [
    "### 1. 获取配置文件\r\n",
    "\r\n",
    "生成并保存配置文件，其中包含有关从本地环境连接到 Azure Azure Machine Learning的信息。"
   ],
   "metadata": {}
  },
  {
   "cell_type": "code",
   "execution_count": null,
   "source": [
    "from azureml.core import Workspace, Dataset\r\n",
    "\r\n",
    "# 在下面三行代码填入配置信息\r\n",
    "subscription_id = ''\r\n",
    "resource_group = ''\r\n",
    "workspace_name = ''\r\n",
    "\r\n",
    "workspace = Workspace(subscription_id, resource_group, workspace_name)"
   ],
   "outputs": [],
   "metadata": {}
  },
  {
   "cell_type": "code",
   "execution_count": null,
   "source": [
    "# 保存配置信息\r\n",
    "workspace.write_config(path=\".azureml\")"
   ],
   "outputs": [],
   "metadata": {}
  },
  {
   "cell_type": "code",
   "execution_count": null,
   "source": [],
   "outputs": [],
   "metadata": {}
  },
  {
   "cell_type": "markdown",
   "source": [
    "### 2. 搭建计算群集"
   ],
   "metadata": {}
  },
  {
   "cell_type": "markdown",
   "source": [
    "登录[Azure Machine Learning studio](ml.azure.com) 并从左侧菜单访问 Compute 以创建计算群集。有关信息，请参阅以下文档。\r\n",
    "\r\n",
    "※ 文档 :[在 Azure 机器学习工作室中为模型训练和部署创建计算目标](https://docs.microsoft.com/zh-cn/azure/machine-learning/how-to-create-attach-compute-studio)"
   ],
   "metadata": {}
  },
  {
   "cell_type": "markdown",
   "source": [
    "建议选择[Tesla V100](https://www.nvidia.com/en-gb/data-center/tesla-v100/) 对应GPU的机型 `Standard NC6s_v3` "
   ],
   "metadata": {}
  },
  {
   "cell_type": "code",
   "execution_count": null,
   "source": [],
   "outputs": [],
   "metadata": {}
  },
  {
   "cell_type": "code",
   "execution_count": null,
   "source": [
    "conda --version"
   ],
   "outputs": [],
   "metadata": {}
  },
  {
   "cell_type": "code",
   "execution_count": null,
   "source": [],
   "outputs": [],
   "metadata": {}
  }
 ]
}